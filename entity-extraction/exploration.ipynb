{
 "metadata": {
  "language_info": {
   "codemirror_mode": {
    "name": "ipython",
    "version": 3
   },
   "file_extension": ".py",
   "mimetype": "text/x-python",
   "name": "python",
   "nbconvert_exporter": "python",
   "pygments_lexer": "ipython3",
   "version": "3.8.3-final"
  },
  "orig_nbformat": 2,
  "kernelspec": {
   "name": "python3",
   "display_name": "Python 3",
   "language": "python"
  }
 },
 "nbformat": 4,
 "nbformat_minor": 2,
 "cells": [
  {
   "source": [
    "# Exploration of Translated Items\n",
    "\n",
    "> The purpose of this exploration is to get a grasp of what the translated data sets in the GitHub repo look like and how they could be of use for the task of NER or relation extraction."
   ],
   "cell_type": "markdown",
   "metadata": {}
  },
  {
   "cell_type": "code",
   "execution_count": 1,
   "metadata": {},
   "outputs": [],
   "source": [
    "# library for working with paths\n",
    "import pathlib\n",
    "# data manipulation library\n",
    "import pandas as pd \n",
    "# lists directory items into list objects\n",
    "from glob import glob"
   ]
  },
  {
   "cell_type": "code",
   "execution_count": 2,
   "metadata": {},
   "outputs": [],
   "source": [
    "# set the path for where the data is\n",
    "data_path = pathlib.Path().cwd() / 'data/*.csv' "
   ]
  },
  {
   "cell_type": "code",
   "execution_count": 3,
   "metadata": {},
   "outputs": [],
   "source": [
    "# iterate through the items in the path and save in a list of dfs\n",
    "dfs = [pd.read_csv(path) for path in glob(str(data_path))]"
   ]
  },
  {
   "cell_type": "code",
   "execution_count": 4,
   "metadata": {},
   "outputs": [
    {
     "output_type": "execute_result",
     "data": {
      "text/plain": [
       "   id                         name  description  menus_appeared  \\\n",
       "0   1   Consomme printaniere royal          NaN               8   \n",
       "1   5                  St. Emilion          NaN              66   \n",
       "2  16                     Pim-olas          NaN             145   \n",
       "3  23                       Pomard          NaN              11   \n",
       "4  29  G. H. Mumm & Co's Extra Dry          NaN              14   \n",
       "\n",
       "   times_appeared  first_appeared  last_appeared  lowest_price  highest_price  \\\n",
       "0               8            1897           1927          0.20            0.4   \n",
       "1              68            1881           1981          0.00           18.0   \n",
       "2             148            1897           1918          0.15           35.0   \n",
       "3              11            1880           1950          0.75            5.0   \n",
       "4              14            1895           1914          2.00            4.0   \n",
       "\n",
       "   seafood_yn               translatedText  \n",
       "0           0         Royal Spring Consume  \n",
       "1           0                  St. Emilion  \n",
       "2           0                    Pim-waves  \n",
       "3           0                       Pomard  \n",
       "4           0  G. H. Mumm & Co's Extra Dry  "
      ],
      "text/html": "<div>\n<style scoped>\n    .dataframe tbody tr th:only-of-type {\n        vertical-align: middle;\n    }\n\n    .dataframe tbody tr th {\n        vertical-align: top;\n    }\n\n    .dataframe thead th {\n        text-align: right;\n    }\n</style>\n<table border=\"1\" class=\"dataframe\">\n  <thead>\n    <tr style=\"text-align: right;\">\n      <th></th>\n      <th>id</th>\n      <th>name</th>\n      <th>description</th>\n      <th>menus_appeared</th>\n      <th>times_appeared</th>\n      <th>first_appeared</th>\n      <th>last_appeared</th>\n      <th>lowest_price</th>\n      <th>highest_price</th>\n      <th>seafood_yn</th>\n      <th>translatedText</th>\n    </tr>\n  </thead>\n  <tbody>\n    <tr>\n      <th>0</th>\n      <td>1</td>\n      <td>Consomme printaniere royal</td>\n      <td>NaN</td>\n      <td>8</td>\n      <td>8</td>\n      <td>1897</td>\n      <td>1927</td>\n      <td>0.20</td>\n      <td>0.4</td>\n      <td>0</td>\n      <td>Royal Spring Consume</td>\n    </tr>\n    <tr>\n      <th>1</th>\n      <td>5</td>\n      <td>St. Emilion</td>\n      <td>NaN</td>\n      <td>66</td>\n      <td>68</td>\n      <td>1881</td>\n      <td>1981</td>\n      <td>0.00</td>\n      <td>18.0</td>\n      <td>0</td>\n      <td>St. Emilion</td>\n    </tr>\n    <tr>\n      <th>2</th>\n      <td>16</td>\n      <td>Pim-olas</td>\n      <td>NaN</td>\n      <td>145</td>\n      <td>148</td>\n      <td>1897</td>\n      <td>1918</td>\n      <td>0.15</td>\n      <td>35.0</td>\n      <td>0</td>\n      <td>Pim-waves</td>\n    </tr>\n    <tr>\n      <th>3</th>\n      <td>23</td>\n      <td>Pomard</td>\n      <td>NaN</td>\n      <td>11</td>\n      <td>11</td>\n      <td>1880</td>\n      <td>1950</td>\n      <td>0.75</td>\n      <td>5.0</td>\n      <td>0</td>\n      <td>Pomard</td>\n    </tr>\n    <tr>\n      <th>4</th>\n      <td>29</td>\n      <td>G. H. Mumm &amp; Co's Extra Dry</td>\n      <td>NaN</td>\n      <td>14</td>\n      <td>14</td>\n      <td>1895</td>\n      <td>1914</td>\n      <td>2.00</td>\n      <td>4.0</td>\n      <td>0</td>\n      <td>G. H. Mumm &amp; Co's Extra Dry</td>\n    </tr>\n  </tbody>\n</table>\n</div>"
     },
     "metadata": {},
     "execution_count": 4
    }
   ],
   "source": [
    "dfs[0].head()"
   ]
  },
  {
   "cell_type": "code",
   "execution_count": 5,
   "metadata": {},
   "outputs": [
    {
     "output_type": "execute_result",
     "data": {
      "text/plain": [
       "   id                    name  description  menus_appeared  times_appeared  \\\n",
       "0   2           Chicken gumbo          NaN             111             117   \n",
       "1   3     Tomato aux croutons          NaN              13              13   \n",
       "2   4         Onion au gratin          NaN              41              41   \n",
       "3   7                Radishes          NaN            3262            3346   \n",
       "4   8  Chicken soup with rice          NaN              48              49   \n",
       "\n",
       "   first_appeared  last_appeared  lowest_price  highest_price  seafood_yn  \\\n",
       "0            1895           1960          0.10            0.8           0   \n",
       "1            1893           1917          0.25            0.4           0   \n",
       "2            1900           1971          0.25            1.0           0   \n",
       "3            1854           2928          0.00           25.0           0   \n",
       "4            1897           1961          0.10            0.6           0   \n",
       "\n",
       "           translatedText  \n",
       "0           Chicken gumbo  \n",
       "1    Tomato with croutons  \n",
       "2         Onion au gratin  \n",
       "3                Radishes  \n",
       "4  Chicken soup with rice  "
      ],
      "text/html": "<div>\n<style scoped>\n    .dataframe tbody tr th:only-of-type {\n        vertical-align: middle;\n    }\n\n    .dataframe tbody tr th {\n        vertical-align: top;\n    }\n\n    .dataframe thead th {\n        text-align: right;\n    }\n</style>\n<table border=\"1\" class=\"dataframe\">\n  <thead>\n    <tr style=\"text-align: right;\">\n      <th></th>\n      <th>id</th>\n      <th>name</th>\n      <th>description</th>\n      <th>menus_appeared</th>\n      <th>times_appeared</th>\n      <th>first_appeared</th>\n      <th>last_appeared</th>\n      <th>lowest_price</th>\n      <th>highest_price</th>\n      <th>seafood_yn</th>\n      <th>translatedText</th>\n    </tr>\n  </thead>\n  <tbody>\n    <tr>\n      <th>0</th>\n      <td>2</td>\n      <td>Chicken gumbo</td>\n      <td>NaN</td>\n      <td>111</td>\n      <td>117</td>\n      <td>1895</td>\n      <td>1960</td>\n      <td>0.10</td>\n      <td>0.8</td>\n      <td>0</td>\n      <td>Chicken gumbo</td>\n    </tr>\n    <tr>\n      <th>1</th>\n      <td>3</td>\n      <td>Tomato aux croutons</td>\n      <td>NaN</td>\n      <td>13</td>\n      <td>13</td>\n      <td>1893</td>\n      <td>1917</td>\n      <td>0.25</td>\n      <td>0.4</td>\n      <td>0</td>\n      <td>Tomato with croutons</td>\n    </tr>\n    <tr>\n      <th>2</th>\n      <td>4</td>\n      <td>Onion au gratin</td>\n      <td>NaN</td>\n      <td>41</td>\n      <td>41</td>\n      <td>1900</td>\n      <td>1971</td>\n      <td>0.25</td>\n      <td>1.0</td>\n      <td>0</td>\n      <td>Onion au gratin</td>\n    </tr>\n    <tr>\n      <th>3</th>\n      <td>7</td>\n      <td>Radishes</td>\n      <td>NaN</td>\n      <td>3262</td>\n      <td>3346</td>\n      <td>1854</td>\n      <td>2928</td>\n      <td>0.00</td>\n      <td>25.0</td>\n      <td>0</td>\n      <td>Radishes</td>\n    </tr>\n    <tr>\n      <th>4</th>\n      <td>8</td>\n      <td>Chicken soup with rice</td>\n      <td>NaN</td>\n      <td>48</td>\n      <td>49</td>\n      <td>1897</td>\n      <td>1961</td>\n      <td>0.10</td>\n      <td>0.6</td>\n      <td>0</td>\n      <td>Chicken soup with rice</td>\n    </tr>\n  </tbody>\n</table>\n</div>"
     },
     "metadata": {},
     "execution_count": 5
    }
   ],
   "source": [
    "dfs[1].head()"
   ]
  },
  {
   "cell_type": "code",
   "execution_count": 6,
   "metadata": {},
   "outputs": [
    {
     "output_type": "execute_result",
     "data": {
      "text/plain": [
       "   id                         name  description  menus_appeared  \\\n",
       "0   1   Consomme printaniere royal          NaN               8   \n",
       "1   5                  St. Emilion          NaN              66   \n",
       "2  16                     Pim-olas          NaN             145   \n",
       "3  23                       Pomard          NaN              11   \n",
       "4  29  G. H. Mumm & Co's Extra Dry          NaN              14   \n",
       "\n",
       "   times_appeared  first_appeared  last_appeared  lowest_price  highest_price  \\\n",
       "0               8            1897           1927          0.20            0.4   \n",
       "1              68            1881           1981          0.00           18.0   \n",
       "2             148            1897           1918          0.15           35.0   \n",
       "3              11            1880           1950          0.75            5.0   \n",
       "4              14            1895           1914          2.00            4.0   \n",
       "\n",
       "   seafood_yn               translatedText  \n",
       "0           0         Royal Spring Consume  \n",
       "1           0                  St. Emilion  \n",
       "2           0                    Pim-waves  \n",
       "3           0                       Pomard  \n",
       "4           0  G. H. Mumm & Co's Extra Dry  "
      ],
      "text/html": "<div>\n<style scoped>\n    .dataframe tbody tr th:only-of-type {\n        vertical-align: middle;\n    }\n\n    .dataframe tbody tr th {\n        vertical-align: top;\n    }\n\n    .dataframe thead th {\n        text-align: right;\n    }\n</style>\n<table border=\"1\" class=\"dataframe\">\n  <thead>\n    <tr style=\"text-align: right;\">\n      <th></th>\n      <th>id</th>\n      <th>name</th>\n      <th>description</th>\n      <th>menus_appeared</th>\n      <th>times_appeared</th>\n      <th>first_appeared</th>\n      <th>last_appeared</th>\n      <th>lowest_price</th>\n      <th>highest_price</th>\n      <th>seafood_yn</th>\n      <th>translatedText</th>\n    </tr>\n  </thead>\n  <tbody>\n    <tr>\n      <th>0</th>\n      <td>1</td>\n      <td>Consomme printaniere royal</td>\n      <td>NaN</td>\n      <td>8</td>\n      <td>8</td>\n      <td>1897</td>\n      <td>1927</td>\n      <td>0.20</td>\n      <td>0.4</td>\n      <td>0</td>\n      <td>Royal Spring Consume</td>\n    </tr>\n    <tr>\n      <th>1</th>\n      <td>5</td>\n      <td>St. Emilion</td>\n      <td>NaN</td>\n      <td>66</td>\n      <td>68</td>\n      <td>1881</td>\n      <td>1981</td>\n      <td>0.00</td>\n      <td>18.0</td>\n      <td>0</td>\n      <td>St. Emilion</td>\n    </tr>\n    <tr>\n      <th>2</th>\n      <td>16</td>\n      <td>Pim-olas</td>\n      <td>NaN</td>\n      <td>145</td>\n      <td>148</td>\n      <td>1897</td>\n      <td>1918</td>\n      <td>0.15</td>\n      <td>35.0</td>\n      <td>0</td>\n      <td>Pim-waves</td>\n    </tr>\n    <tr>\n      <th>3</th>\n      <td>23</td>\n      <td>Pomard</td>\n      <td>NaN</td>\n      <td>11</td>\n      <td>11</td>\n      <td>1880</td>\n      <td>1950</td>\n      <td>0.75</td>\n      <td>5.0</td>\n      <td>0</td>\n      <td>Pomard</td>\n    </tr>\n    <tr>\n      <th>4</th>\n      <td>29</td>\n      <td>G. H. Mumm &amp; Co's Extra Dry</td>\n      <td>NaN</td>\n      <td>14</td>\n      <td>14</td>\n      <td>1895</td>\n      <td>1914</td>\n      <td>2.00</td>\n      <td>4.0</td>\n      <td>0</td>\n      <td>G. H. Mumm &amp; Co's Extra Dry</td>\n    </tr>\n  </tbody>\n</table>\n</div>"
     },
     "metadata": {},
     "execution_count": 6
    }
   ],
   "source": [
    "dfs[2].head()"
   ]
  },
  {
   "cell_type": "code",
   "execution_count": 7,
   "metadata": {},
   "outputs": [
    {
     "output_type": "execute_result",
     "data": {
      "text/plain": [
       "array([nan])"
      ]
     },
     "metadata": {},
     "execution_count": 7
    }
   ],
   "source": [
    "dfs[0].description.unique() "
   ]
  },
  {
   "cell_type": "code",
   "execution_count": 8,
   "metadata": {},
   "outputs": [],
   "source": [
    "# using the final form of the df\n",
    "df = dfs[0][dfs[0]['seafood_yn'] == 1]"
   ]
  },
  {
   "cell_type": "code",
   "execution_count": 17,
   "metadata": {},
   "outputs": [],
   "source": [
    "# setting list of words used to denote sides\n",
    "sides = ['and', 'served', 'with', 'on', ',', 'paired', '-']"
   ]
  },
  {
   "cell_type": "code",
   "execution_count": 18,
   "metadata": {},
   "outputs": [
    {
     "output_type": "execute_result",
     "data": {
      "text/plain": [
       "       id                                   name  description  menus_appeared  \\\n",
       "48    340                  Raw on the Half Shell          NaN               1   \n",
       "173  1129           Gerostete Sardinen auf Toast          NaN              13   \n",
       "201  1208                Roast on the Half Shell          NaN               1   \n",
       "312  1827  Extra filet steak au beurre d'anchois          NaN               2   \n",
       "532  3419                   Lucines sur coquille          NaN               5   \n",
       "\n",
       "     times_appeared  first_appeared  last_appeared  lowest_price  \\\n",
       "48                1               0              0           0.0   \n",
       "173              13            1899           1901           0.0   \n",
       "201               1            1900           1900           0.3   \n",
       "312               2            1900           1900           0.0   \n",
       "532               5            1900           1906           0.0   \n",
       "\n",
       "     highest_price  seafood_yn                         translatedText  \n",
       "48             0.0           1                  Raw on the Half Shell  \n",
       "173            0.0           1              Roasted sardines on toast  \n",
       "201            0.3           1                Roast on the Half Shell  \n",
       "312            0.0           1  Extra filet steak with anchovy butter  \n",
       "532            0.0           1                       Lucines on shell  "
      ],
      "text/html": "<div>\n<style scoped>\n    .dataframe tbody tr th:only-of-type {\n        vertical-align: middle;\n    }\n\n    .dataframe tbody tr th {\n        vertical-align: top;\n    }\n\n    .dataframe thead th {\n        text-align: right;\n    }\n</style>\n<table border=\"1\" class=\"dataframe\">\n  <thead>\n    <tr style=\"text-align: right;\">\n      <th></th>\n      <th>id</th>\n      <th>name</th>\n      <th>description</th>\n      <th>menus_appeared</th>\n      <th>times_appeared</th>\n      <th>first_appeared</th>\n      <th>last_appeared</th>\n      <th>lowest_price</th>\n      <th>highest_price</th>\n      <th>seafood_yn</th>\n      <th>translatedText</th>\n    </tr>\n  </thead>\n  <tbody>\n    <tr>\n      <th>48</th>\n      <td>340</td>\n      <td>Raw on the Half Shell</td>\n      <td>NaN</td>\n      <td>1</td>\n      <td>1</td>\n      <td>0</td>\n      <td>0</td>\n      <td>0.0</td>\n      <td>0.0</td>\n      <td>1</td>\n      <td>Raw on the Half Shell</td>\n    </tr>\n    <tr>\n      <th>173</th>\n      <td>1129</td>\n      <td>Gerostete Sardinen auf Toast</td>\n      <td>NaN</td>\n      <td>13</td>\n      <td>13</td>\n      <td>1899</td>\n      <td>1901</td>\n      <td>0.0</td>\n      <td>0.0</td>\n      <td>1</td>\n      <td>Roasted sardines on toast</td>\n    </tr>\n    <tr>\n      <th>201</th>\n      <td>1208</td>\n      <td>Roast on the Half Shell</td>\n      <td>NaN</td>\n      <td>1</td>\n      <td>1</td>\n      <td>1900</td>\n      <td>1900</td>\n      <td>0.3</td>\n      <td>0.3</td>\n      <td>1</td>\n      <td>Roast on the Half Shell</td>\n    </tr>\n    <tr>\n      <th>312</th>\n      <td>1827</td>\n      <td>Extra filet steak au beurre d'anchois</td>\n      <td>NaN</td>\n      <td>2</td>\n      <td>2</td>\n      <td>1900</td>\n      <td>1900</td>\n      <td>0.0</td>\n      <td>0.0</td>\n      <td>1</td>\n      <td>Extra filet steak with anchovy butter</td>\n    </tr>\n    <tr>\n      <th>532</th>\n      <td>3419</td>\n      <td>Lucines sur coquille</td>\n      <td>NaN</td>\n      <td>5</td>\n      <td>5</td>\n      <td>1900</td>\n      <td>1906</td>\n      <td>0.0</td>\n      <td>0.0</td>\n      <td>1</td>\n      <td>Lucines on shell</td>\n    </tr>\n  </tbody>\n</table>\n</div>"
     },
     "metadata": {},
     "execution_count": 18
    }
   ],
   "source": [
    "df.head()"
   ]
  },
  {
   "cell_type": "code",
   "execution_count": 19,
   "metadata": {},
   "outputs": [],
   "source": [
    "# function that checks whether a translated item is in the 'sides' list\n",
    "def checker(text):\n",
    "    for word in text.split(): # splits text by whitespace\n",
    "        if word in sides: # for each word, check if it's in the 'sides' list\n",
    "            return True"
   ]
  },
  {
   "cell_type": "code",
   "execution_count": 20,
   "metadata": {},
   "outputs": [],
   "source": [
    "# filter the df using the new function\n",
    "df = df[df['translatedText'].apply(checker) == True]"
   ]
  },
  {
   "cell_type": "code",
   "execution_count": 16,
   "metadata": {},
   "outputs": [
    {
     "output_type": "execute_result",
     "data": {
      "text/plain": [
       "Scrambled eggs with smoked salmon                                                                                   5\n",
       "Scrambled eggs with smoked eel                                                                                      5\n",
       "Anchovies on toast                                                                                                  5\n",
       "Caviar on toast                                                                                                     4\n",
       "Turtle Soup with Sherry                                                                                             4\n",
       "Fresh lobster with mayonnaise                                                                                       4\n",
       "Lobster mayonnaise with butter and toast                                                                            3\n",
       "Turbot with Dutch sauce                                                                                             3\n",
       "Fried plaice with lemon                                                                                             3\n",
       "Sea bass with fine herbs                                                                                            3\n",
       "Lobster in a Shell with Truffles and Potatoes in Scented Oil                                                        3\n",
       "Lobster cocktail with toast and butter                                                                              3\n",
       "Turtle soup \"Lady Curzon\" baked with curry cream                                                                    3\n",
       "Grilled sardines on toast                                                                                           3\n",
       "Smoked eel on toast with scrambled eggs                                                                             3\n",
       "Trout with almonds                                                                                                  3\n",
       "Shrimp Cocktail with a Fresh Crab Meat Salad                                                                        3\n",
       "Lobster Salad with Mayonnaise                                                                                       3\n",
       "Herring salad garnished with egg and bread                                                                          3\n",
       "Green Turtle with Sherry                                                                                            3\n",
       "Roasted Sea Bass with Aromatics and Virgin Oil                                                                      3\n",
       "Sardines on toast                                                                                                   3\n",
       "Lobster mayonnaise with toast and butter                                                                            3\n",
       "Green Turtle with Quenelles                                                                                         3\n",
       "Lobster with mayonnaise                                                                                             3\n",
       "Lobster Risotto with fava beans, radicchio and savory                                                               3\n",
       "Scrambled eggs with salmon                                                                                          3\n",
       "Smoked salmon on toast                                                                                              3\n",
       "Smoked trout with caviar                                                                                            3\n",
       "Irish Smoked Salmon Thin Slices of Smoked Salmon from Ireland garnished with Diced Onion, Capers and Brown Bread    2\n",
       "Name: translatedText, dtype: int64"
      ]
     },
     "metadata": {},
     "execution_count": 16
    }
   ],
   "source": [
    "# top 30 pairings\n",
    "df.translatedText.value_counts()[:30]"
   ]
  },
  {
   "cell_type": "code",
   "execution_count": null,
   "metadata": {},
   "outputs": [],
   "source": []
  }
 ]
}
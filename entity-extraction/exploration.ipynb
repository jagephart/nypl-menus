{
 "metadata": {
  "language_info": {
   "codemirror_mode": {
    "name": "ipython",
    "version": 3
   },
   "file_extension": ".py",
   "mimetype": "text/x-python",
   "name": "python",
   "nbconvert_exporter": "python",
   "pygments_lexer": "ipython3",
   "version": "3.8.3-final"
  },
  "orig_nbformat": 2,
  "kernelspec": {
   "name": "python3",
   "display_name": "Python 3",
   "language": "python"
  }
 },
 "nbformat": 4,
 "nbformat_minor": 2,
 "cells": [
  {
   "source": [
    "# Exploration of Translated Items\n",
    "\n",
    "> The purpose of this exploration is to get a grasp of what the translated data sets in the GitHub repo look like and how they could be of use for the task of NER or relation extraction."
   ],
   "cell_type": "markdown",
   "metadata": {}
  },
  {
   "cell_type": "code",
   "execution_count": 19,
   "metadata": {},
   "outputs": [],
   "source": [
    "# library for working with paths\n",
    "import pathlib\n",
    "# data manipulation library\n",
    "import pandas as pd \n",
    "# lists directory items into list objects\n",
    "from glob import glob"
   ]
  },
  {
   "cell_type": "code",
   "execution_count": 23,
   "metadata": {},
   "outputs": [],
   "source": [
    "# set the path for where the data is\n",
    "data_path = pathlib.Path().cwd() / 'data/*.csv' "
   ]
  },
  {
   "cell_type": "code",
   "execution_count": 26,
   "metadata": {},
   "outputs": [],
   "source": [
    "# iterate through the items in the path and save in a list of dfs\n",
    "dfs = [pd.read_csv(path) for path in glob(str(data_path))]"
   ]
  },
  {
   "cell_type": "code",
   "execution_count": 28,
   "metadata": {},
   "outputs": [
    {
     "output_type": "execute_result",
     "data": {
      "text/plain": [
       "   id                         name  description  menus_appeared  \\\n",
       "0   1   Consomme printaniere royal          NaN               8   \n",
       "1   5                  St. Emilion          NaN              66   \n",
       "2  16                     Pim-olas          NaN             145   \n",
       "3  23                       Pomard          NaN              11   \n",
       "4  29  G. H. Mumm & Co's Extra Dry          NaN              14   \n",
       "\n",
       "   times_appeared  first_appeared  last_appeared  lowest_price  highest_price  \\\n",
       "0               8            1897           1927          0.20            0.4   \n",
       "1              68            1881           1981          0.00           18.0   \n",
       "2             148            1897           1918          0.15           35.0   \n",
       "3              11            1880           1950          0.75            5.0   \n",
       "4              14            1895           1914          2.00            4.0   \n",
       "\n",
       "   seafood_yn               translatedText  \n",
       "0           0         Royal Spring Consume  \n",
       "1           0                  St. Emilion  \n",
       "2           0                    Pim-waves  \n",
       "3           0                       Pomard  \n",
       "4           0  G. H. Mumm & Co's Extra Dry  "
      ],
      "text/html": "<div>\n<style scoped>\n    .dataframe tbody tr th:only-of-type {\n        vertical-align: middle;\n    }\n\n    .dataframe tbody tr th {\n        vertical-align: top;\n    }\n\n    .dataframe thead th {\n        text-align: right;\n    }\n</style>\n<table border=\"1\" class=\"dataframe\">\n  <thead>\n    <tr style=\"text-align: right;\">\n      <th></th>\n      <th>id</th>\n      <th>name</th>\n      <th>description</th>\n      <th>menus_appeared</th>\n      <th>times_appeared</th>\n      <th>first_appeared</th>\n      <th>last_appeared</th>\n      <th>lowest_price</th>\n      <th>highest_price</th>\n      <th>seafood_yn</th>\n      <th>translatedText</th>\n    </tr>\n  </thead>\n  <tbody>\n    <tr>\n      <th>0</th>\n      <td>1</td>\n      <td>Consomme printaniere royal</td>\n      <td>NaN</td>\n      <td>8</td>\n      <td>8</td>\n      <td>1897</td>\n      <td>1927</td>\n      <td>0.20</td>\n      <td>0.4</td>\n      <td>0</td>\n      <td>Royal Spring Consume</td>\n    </tr>\n    <tr>\n      <th>1</th>\n      <td>5</td>\n      <td>St. Emilion</td>\n      <td>NaN</td>\n      <td>66</td>\n      <td>68</td>\n      <td>1881</td>\n      <td>1981</td>\n      <td>0.00</td>\n      <td>18.0</td>\n      <td>0</td>\n      <td>St. Emilion</td>\n    </tr>\n    <tr>\n      <th>2</th>\n      <td>16</td>\n      <td>Pim-olas</td>\n      <td>NaN</td>\n      <td>145</td>\n      <td>148</td>\n      <td>1897</td>\n      <td>1918</td>\n      <td>0.15</td>\n      <td>35.0</td>\n      <td>0</td>\n      <td>Pim-waves</td>\n    </tr>\n    <tr>\n      <th>3</th>\n      <td>23</td>\n      <td>Pomard</td>\n      <td>NaN</td>\n      <td>11</td>\n      <td>11</td>\n      <td>1880</td>\n      <td>1950</td>\n      <td>0.75</td>\n      <td>5.0</td>\n      <td>0</td>\n      <td>Pomard</td>\n    </tr>\n    <tr>\n      <th>4</th>\n      <td>29</td>\n      <td>G. H. Mumm &amp; Co's Extra Dry</td>\n      <td>NaN</td>\n      <td>14</td>\n      <td>14</td>\n      <td>1895</td>\n      <td>1914</td>\n      <td>2.00</td>\n      <td>4.0</td>\n      <td>0</td>\n      <td>G. H. Mumm &amp; Co's Extra Dry</td>\n    </tr>\n  </tbody>\n</table>\n</div>"
     },
     "metadata": {},
     "execution_count": 28
    }
   ],
   "source": [
    "dfs[0].head()"
   ]
  },
  {
   "cell_type": "code",
   "execution_count": 29,
   "metadata": {},
   "outputs": [
    {
     "output_type": "execute_result",
     "data": {
      "text/plain": [
       "   id                    name  description  menus_appeared  times_appeared  \\\n",
       "0   2           Chicken gumbo          NaN             111             117   \n",
       "1   3     Tomato aux croutons          NaN              13              13   \n",
       "2   4         Onion au gratin          NaN              41              41   \n",
       "3   7                Radishes          NaN            3262            3346   \n",
       "4   8  Chicken soup with rice          NaN              48              49   \n",
       "\n",
       "   first_appeared  last_appeared  lowest_price  highest_price  seafood_yn  \\\n",
       "0            1895           1960          0.10            0.8           0   \n",
       "1            1893           1917          0.25            0.4           0   \n",
       "2            1900           1971          0.25            1.0           0   \n",
       "3            1854           2928          0.00           25.0           0   \n",
       "4            1897           1961          0.10            0.6           0   \n",
       "\n",
       "           translatedText  \n",
       "0           Chicken gumbo  \n",
       "1    Tomato with croutons  \n",
       "2         Onion au gratin  \n",
       "3                Radishes  \n",
       "4  Chicken soup with rice  "
      ],
      "text/html": "<div>\n<style scoped>\n    .dataframe tbody tr th:only-of-type {\n        vertical-align: middle;\n    }\n\n    .dataframe tbody tr th {\n        vertical-align: top;\n    }\n\n    .dataframe thead th {\n        text-align: right;\n    }\n</style>\n<table border=\"1\" class=\"dataframe\">\n  <thead>\n    <tr style=\"text-align: right;\">\n      <th></th>\n      <th>id</th>\n      <th>name</th>\n      <th>description</th>\n      <th>menus_appeared</th>\n      <th>times_appeared</th>\n      <th>first_appeared</th>\n      <th>last_appeared</th>\n      <th>lowest_price</th>\n      <th>highest_price</th>\n      <th>seafood_yn</th>\n      <th>translatedText</th>\n    </tr>\n  </thead>\n  <tbody>\n    <tr>\n      <th>0</th>\n      <td>2</td>\n      <td>Chicken gumbo</td>\n      <td>NaN</td>\n      <td>111</td>\n      <td>117</td>\n      <td>1895</td>\n      <td>1960</td>\n      <td>0.10</td>\n      <td>0.8</td>\n      <td>0</td>\n      <td>Chicken gumbo</td>\n    </tr>\n    <tr>\n      <th>1</th>\n      <td>3</td>\n      <td>Tomato aux croutons</td>\n      <td>NaN</td>\n      <td>13</td>\n      <td>13</td>\n      <td>1893</td>\n      <td>1917</td>\n      <td>0.25</td>\n      <td>0.4</td>\n      <td>0</td>\n      <td>Tomato with croutons</td>\n    </tr>\n    <tr>\n      <th>2</th>\n      <td>4</td>\n      <td>Onion au gratin</td>\n      <td>NaN</td>\n      <td>41</td>\n      <td>41</td>\n      <td>1900</td>\n      <td>1971</td>\n      <td>0.25</td>\n      <td>1.0</td>\n      <td>0</td>\n      <td>Onion au gratin</td>\n    </tr>\n    <tr>\n      <th>3</th>\n      <td>7</td>\n      <td>Radishes</td>\n      <td>NaN</td>\n      <td>3262</td>\n      <td>3346</td>\n      <td>1854</td>\n      <td>2928</td>\n      <td>0.00</td>\n      <td>25.0</td>\n      <td>0</td>\n      <td>Radishes</td>\n    </tr>\n    <tr>\n      <th>4</th>\n      <td>8</td>\n      <td>Chicken soup with rice</td>\n      <td>NaN</td>\n      <td>48</td>\n      <td>49</td>\n      <td>1897</td>\n      <td>1961</td>\n      <td>0.10</td>\n      <td>0.6</td>\n      <td>0</td>\n      <td>Chicken soup with rice</td>\n    </tr>\n  </tbody>\n</table>\n</div>"
     },
     "metadata": {},
     "execution_count": 29
    }
   ],
   "source": [
    "dfs[1].head()"
   ]
  },
  {
   "cell_type": "code",
   "execution_count": 30,
   "metadata": {},
   "outputs": [
    {
     "output_type": "execute_result",
     "data": {
      "text/plain": [
       "   id                         name  description  menus_appeared  \\\n",
       "0   1   Consomme printaniere royal          NaN               8   \n",
       "1   5                  St. Emilion          NaN              66   \n",
       "2  16                     Pim-olas          NaN             145   \n",
       "3  23                       Pomard          NaN              11   \n",
       "4  29  G. H. Mumm & Co's Extra Dry          NaN              14   \n",
       "\n",
       "   times_appeared  first_appeared  last_appeared  lowest_price  highest_price  \\\n",
       "0               8            1897           1927          0.20            0.4   \n",
       "1              68            1881           1981          0.00           18.0   \n",
       "2             148            1897           1918          0.15           35.0   \n",
       "3              11            1880           1950          0.75            5.0   \n",
       "4              14            1895           1914          2.00            4.0   \n",
       "\n",
       "   seafood_yn               translatedText  \n",
       "0           0         Royal Spring Consume  \n",
       "1           0                  St. Emilion  \n",
       "2           0                    Pim-waves  \n",
       "3           0                       Pomard  \n",
       "4           0  G. H. Mumm & Co's Extra Dry  "
      ],
      "text/html": "<div>\n<style scoped>\n    .dataframe tbody tr th:only-of-type {\n        vertical-align: middle;\n    }\n\n    .dataframe tbody tr th {\n        vertical-align: top;\n    }\n\n    .dataframe thead th {\n        text-align: right;\n    }\n</style>\n<table border=\"1\" class=\"dataframe\">\n  <thead>\n    <tr style=\"text-align: right;\">\n      <th></th>\n      <th>id</th>\n      <th>name</th>\n      <th>description</th>\n      <th>menus_appeared</th>\n      <th>times_appeared</th>\n      <th>first_appeared</th>\n      <th>last_appeared</th>\n      <th>lowest_price</th>\n      <th>highest_price</th>\n      <th>seafood_yn</th>\n      <th>translatedText</th>\n    </tr>\n  </thead>\n  <tbody>\n    <tr>\n      <th>0</th>\n      <td>1</td>\n      <td>Consomme printaniere royal</td>\n      <td>NaN</td>\n      <td>8</td>\n      <td>8</td>\n      <td>1897</td>\n      <td>1927</td>\n      <td>0.20</td>\n      <td>0.4</td>\n      <td>0</td>\n      <td>Royal Spring Consume</td>\n    </tr>\n    <tr>\n      <th>1</th>\n      <td>5</td>\n      <td>St. Emilion</td>\n      <td>NaN</td>\n      <td>66</td>\n      <td>68</td>\n      <td>1881</td>\n      <td>1981</td>\n      <td>0.00</td>\n      <td>18.0</td>\n      <td>0</td>\n      <td>St. Emilion</td>\n    </tr>\n    <tr>\n      <th>2</th>\n      <td>16</td>\n      <td>Pim-olas</td>\n      <td>NaN</td>\n      <td>145</td>\n      <td>148</td>\n      <td>1897</td>\n      <td>1918</td>\n      <td>0.15</td>\n      <td>35.0</td>\n      <td>0</td>\n      <td>Pim-waves</td>\n    </tr>\n    <tr>\n      <th>3</th>\n      <td>23</td>\n      <td>Pomard</td>\n      <td>NaN</td>\n      <td>11</td>\n      <td>11</td>\n      <td>1880</td>\n      <td>1950</td>\n      <td>0.75</td>\n      <td>5.0</td>\n      <td>0</td>\n      <td>Pomard</td>\n    </tr>\n    <tr>\n      <th>4</th>\n      <td>29</td>\n      <td>G. H. Mumm &amp; Co's Extra Dry</td>\n      <td>NaN</td>\n      <td>14</td>\n      <td>14</td>\n      <td>1895</td>\n      <td>1914</td>\n      <td>2.00</td>\n      <td>4.0</td>\n      <td>0</td>\n      <td>G. H. Mumm &amp; Co's Extra Dry</td>\n    </tr>\n  </tbody>\n</table>\n</div>"
     },
     "metadata": {},
     "execution_count": 30
    }
   ],
   "source": [
    "dfs[2].head()"
   ]
  },
  {
   "cell_type": "code",
   "execution_count": 32,
   "metadata": {},
   "outputs": [
    {
     "output_type": "execute_result",
     "data": {
      "text/plain": [
       "array([nan])"
      ]
     },
     "metadata": {},
     "execution_count": 32
    }
   ],
   "source": [
    "dfs[0].description.unique()"
   ]
  },
  {
   "source": [
    "## Conclusion\n",
    "\n",
    "It doesn't look like these data are going to be useful for the NER or relation extraction use-cases.  We're probably going to need more text for the modeling to work properly.  These data could be useful for future translation matching."
   ],
   "cell_type": "markdown",
   "metadata": {}
  },
  {
   "cell_type": "code",
   "execution_count": null,
   "metadata": {},
   "outputs": [],
   "source": []
  }
 ]
}
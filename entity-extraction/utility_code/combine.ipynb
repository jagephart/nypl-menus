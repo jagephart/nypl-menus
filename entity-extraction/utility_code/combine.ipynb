{
 "metadata": {
  "language_info": {
   "codemirror_mode": {
    "name": "ipython",
    "version": 3
   },
   "file_extension": ".py",
   "mimetype": "text/x-python",
   "name": "python",
   "nbconvert_exporter": "python",
   "pygments_lexer": "ipython3",
   "version": "3.8.5-final"
  },
  "orig_nbformat": 2,
  "kernelspec": {
   "name": "python3",
   "display_name": "Python 3.8.5 64-bit (conda)",
   "metadata": {
    "interpreter": {
     "hash": "121471a146f7958dc2dd115505d42b39b2aaad4b57f71eb47d09b3750ea69e88"
    }
   }
  }
 },
 "nbformat": 4,
 "nbformat_minor": 2,
 "cells": [
  {
   "cell_type": "code",
   "execution_count": 1,
   "metadata": {},
   "outputs": [],
   "source": [
    "import pandas as pd"
   ]
  },
  {
   "cell_type": "code",
   "execution_count": 2,
   "metadata": {},
   "outputs": [],
   "source": [
    "import glob "
   ]
  },
  {
   "cell_type": "code",
   "execution_count": 6,
   "metadata": {},
   "outputs": [],
   "source": [
    "files = glob.glob('data/r_*.csv')"
   ]
  },
  {
   "cell_type": "code",
   "execution_count": 7,
   "metadata": {},
   "outputs": [],
   "source": [
    "df_list = [pd.read_csv(file) for file in files]"
   ]
  },
  {
   "cell_type": "code",
   "execution_count": 9,
   "metadata": {},
   "outputs": [],
   "source": [
    "df = pd.concat(df_list)"
   ]
  },
  {
   "cell_type": "code",
   "execution_count": 11,
   "metadata": {},
   "outputs": [],
   "source": [
    "shuffle_df = df.sample(frac=1)\n",
    "\n",
    "# Define a size for  train set \n",
    "train_size = int(0.8 * len(df))\n",
    "\n",
    "# Split  dataset \n",
    "train_set = shuffle_df[:train_size]\n",
    "test_set = shuffle_df[train_size:]"
   ]
  },
  {
   "cell_type": "code",
   "execution_count": 12,
   "metadata": {},
   "outputs": [
    {
     "output_type": "execute_result",
     "data": {
      "text/plain": [
       "     Unnamed: 0           created_utc  downs      id kind  \\\n",
       "695         695  2020-06-13T14:54:49Z    0.0  h8db4z   t3   \n",
       "402         402  2020-10-04T10:29:14Z    0.0  j4zsn9   t3   \n",
       "958         958  2020-02-11T12:37:23Z    0.0  f2bryi   t3   \n",
       "963         963  2021-03-18T15:14:15Z    0.0  m7yfme   t3   \n",
       "349         349  2021-03-13T14:33:13Z    0.0  m4dhce   t3   \n",
       "..          ...                   ...    ...     ...  ...   \n",
       "848         848  2021-02-17T10:45:31Z    0.0  llxcgn   t3   \n",
       "855         855  2020-04-09T22:46:23Z    0.0  fy6mss   t3   \n",
       "347         347  2020-10-30T04:34:22Z    0.0  jkt0zh   t3   \n",
       "576         576  2020-07-26T16:32:26Z    0.0  hye7lp   t3   \n",
       "35           35  2021-03-25T13:43:01Z    0.0  md3xe9   t3   \n",
       "\n",
       "    link_flair_css_class  score  \\\n",
       "695                  NaN   41.0   \n",
       "402                  NaN   29.0   \n",
       "958                  NaN    5.0   \n",
       "963                  NaN    1.0   \n",
       "349             question    0.0   \n",
       "..                   ...    ...   \n",
       "848             question    4.0   \n",
       "855                  NaN    1.0   \n",
       "347                  NaN   12.0   \n",
       "576                  NaN   22.0   \n",
       "35                   NaN   32.0   \n",
       "\n",
       "                                              selftext subreddit  \\\n",
       "695                                                NaN   Seafood   \n",
       "402                                                NaN   Seafood   \n",
       "958  Hi! Never been much into seafood. I find a lot...   Seafood   \n",
       "963  Powder or liquid? Which do you prefer, Sure Je...   Cooking   \n",
       "349  \\*CLARIFICATION\\*\\n\\nI'm referring only to the...    travel   \n",
       "..                                                 ...       ...   \n",
       "848  I’m traveling in the next couple months and ju...    travel   \n",
       "855  Hey people! I just did a Seafood Mukbang on Yo...   Seafood   \n",
       "347                                                NaN   Seafood   \n",
       "576                                                NaN   Seafood   \n",
       "35   Hello! I wrote all this out in reply to anothe...   Cooking   \n",
       "\n",
       "                                                 title   ups  upvote_ratio  \n",
       "695                First delivery of live soft shells.  41.0          0.95  \n",
       "402  Quick and Easy Shrimp Cocktail - Recipe in com...  29.0          0.96  \n",
       "958  Good seafood for people who don't really ike s...   5.0          1.00  \n",
       "963                            Is all pectin the same?   1.0          0.67  \n",
       "349  What is meant by \"place of birth\" on the U.S. ...   0.0          0.38  \n",
       "..                                                 ...   ...           ...  \n",
       "848                Questions to ease my flight anxiety   4.0          0.64  \n",
       "855                               Seafood Boil Mukbang   1.0          0.57  \n",
       "347  Seafood boil with different flavors than you u...  12.0          0.87  \n",
       "576              Sardine at Sardine Factory Restaurant  22.0          1.00  \n",
       "35             The best scallion/chive substitute ever  32.0          1.00  \n",
       "\n",
       "[3109 rows x 12 columns]"
      ],
      "text/html": "<div>\n<style scoped>\n    .dataframe tbody tr th:only-of-type {\n        vertical-align: middle;\n    }\n\n    .dataframe tbody tr th {\n        vertical-align: top;\n    }\n\n    .dataframe thead th {\n        text-align: right;\n    }\n</style>\n<table border=\"1\" class=\"dataframe\">\n  <thead>\n    <tr style=\"text-align: right;\">\n      <th></th>\n      <th>Unnamed: 0</th>\n      <th>created_utc</th>\n      <th>downs</th>\n      <th>id</th>\n      <th>kind</th>\n      <th>link_flair_css_class</th>\n      <th>score</th>\n      <th>selftext</th>\n      <th>subreddit</th>\n      <th>title</th>\n      <th>ups</th>\n      <th>upvote_ratio</th>\n    </tr>\n  </thead>\n  <tbody>\n    <tr>\n      <th>695</th>\n      <td>695</td>\n      <td>2020-06-13T14:54:49Z</td>\n      <td>0.0</td>\n      <td>h8db4z</td>\n      <td>t3</td>\n      <td>NaN</td>\n      <td>41.0</td>\n      <td>NaN</td>\n      <td>Seafood</td>\n      <td>First delivery of live soft shells.</td>\n      <td>41.0</td>\n      <td>0.95</td>\n    </tr>\n    <tr>\n      <th>402</th>\n      <td>402</td>\n      <td>2020-10-04T10:29:14Z</td>\n      <td>0.0</td>\n      <td>j4zsn9</td>\n      <td>t3</td>\n      <td>NaN</td>\n      <td>29.0</td>\n      <td>NaN</td>\n      <td>Seafood</td>\n      <td>Quick and Easy Shrimp Cocktail - Recipe in com...</td>\n      <td>29.0</td>\n      <td>0.96</td>\n    </tr>\n    <tr>\n      <th>958</th>\n      <td>958</td>\n      <td>2020-02-11T12:37:23Z</td>\n      <td>0.0</td>\n      <td>f2bryi</td>\n      <td>t3</td>\n      <td>NaN</td>\n      <td>5.0</td>\n      <td>Hi! Never been much into seafood. I find a lot...</td>\n      <td>Seafood</td>\n      <td>Good seafood for people who don't really ike s...</td>\n      <td>5.0</td>\n      <td>1.00</td>\n    </tr>\n    <tr>\n      <th>963</th>\n      <td>963</td>\n      <td>2021-03-18T15:14:15Z</td>\n      <td>0.0</td>\n      <td>m7yfme</td>\n      <td>t3</td>\n      <td>NaN</td>\n      <td>1.0</td>\n      <td>Powder or liquid? Which do you prefer, Sure Je...</td>\n      <td>Cooking</td>\n      <td>Is all pectin the same?</td>\n      <td>1.0</td>\n      <td>0.67</td>\n    </tr>\n    <tr>\n      <th>349</th>\n      <td>349</td>\n      <td>2021-03-13T14:33:13Z</td>\n      <td>0.0</td>\n      <td>m4dhce</td>\n      <td>t3</td>\n      <td>question</td>\n      <td>0.0</td>\n      <td>\\*CLARIFICATION\\*\\n\\nI'm referring only to the...</td>\n      <td>travel</td>\n      <td>What is meant by \"place of birth\" on the U.S. ...</td>\n      <td>0.0</td>\n      <td>0.38</td>\n    </tr>\n    <tr>\n      <th>...</th>\n      <td>...</td>\n      <td>...</td>\n      <td>...</td>\n      <td>...</td>\n      <td>...</td>\n      <td>...</td>\n      <td>...</td>\n      <td>...</td>\n      <td>...</td>\n      <td>...</td>\n      <td>...</td>\n      <td>...</td>\n    </tr>\n    <tr>\n      <th>848</th>\n      <td>848</td>\n      <td>2021-02-17T10:45:31Z</td>\n      <td>0.0</td>\n      <td>llxcgn</td>\n      <td>t3</td>\n      <td>question</td>\n      <td>4.0</td>\n      <td>I’m traveling in the next couple months and ju...</td>\n      <td>travel</td>\n      <td>Questions to ease my flight anxiety</td>\n      <td>4.0</td>\n      <td>0.64</td>\n    </tr>\n    <tr>\n      <th>855</th>\n      <td>855</td>\n      <td>2020-04-09T22:46:23Z</td>\n      <td>0.0</td>\n      <td>fy6mss</td>\n      <td>t3</td>\n      <td>NaN</td>\n      <td>1.0</td>\n      <td>Hey people! I just did a Seafood Mukbang on Yo...</td>\n      <td>Seafood</td>\n      <td>Seafood Boil Mukbang</td>\n      <td>1.0</td>\n      <td>0.57</td>\n    </tr>\n    <tr>\n      <th>347</th>\n      <td>347</td>\n      <td>2020-10-30T04:34:22Z</td>\n      <td>0.0</td>\n      <td>jkt0zh</td>\n      <td>t3</td>\n      <td>NaN</td>\n      <td>12.0</td>\n      <td>NaN</td>\n      <td>Seafood</td>\n      <td>Seafood boil with different flavors than you u...</td>\n      <td>12.0</td>\n      <td>0.87</td>\n    </tr>\n    <tr>\n      <th>576</th>\n      <td>576</td>\n      <td>2020-07-26T16:32:26Z</td>\n      <td>0.0</td>\n      <td>hye7lp</td>\n      <td>t3</td>\n      <td>NaN</td>\n      <td>22.0</td>\n      <td>NaN</td>\n      <td>Seafood</td>\n      <td>Sardine at Sardine Factory Restaurant</td>\n      <td>22.0</td>\n      <td>1.00</td>\n    </tr>\n    <tr>\n      <th>35</th>\n      <td>35</td>\n      <td>2021-03-25T13:43:01Z</td>\n      <td>0.0</td>\n      <td>md3xe9</td>\n      <td>t3</td>\n      <td>NaN</td>\n      <td>32.0</td>\n      <td>Hello! I wrote all this out in reply to anothe...</td>\n      <td>Cooking</td>\n      <td>The best scallion/chive substitute ever</td>\n      <td>32.0</td>\n      <td>1.00</td>\n    </tr>\n  </tbody>\n</table>\n<p>3109 rows × 12 columns</p>\n</div>"
     },
     "metadata": {},
     "execution_count": 12
    }
   ],
   "source": [
    "train_set"
   ]
  },
  {
   "cell_type": "code",
   "execution_count": null,
   "metadata": {},
   "outputs": [],
   "source": []
  }
 ]
}